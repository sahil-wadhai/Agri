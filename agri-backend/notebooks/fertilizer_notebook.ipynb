{
 "cells": [
  {
   "cell_type": "code",
   "execution_count": 106,
   "id": "a2e1e437-329a-4e97-bc9b-59d8ebdb8046",
   "metadata": {},
   "outputs": [],
   "source": [
    "import pandas as pd\n",
    "import numpy as np\n",
    "import matplotlib.pyplot as plt\n",
    "import seaborn as sns\n",
    "from sklearn.metrics import classification_report\n",
    "from sklearn.model_selection import cross_val_score\n",
    "from sklearn.preprocessing import StandardScaler, LabelEncoder\n",
    "from sklearn.model_selection import train_test_split\n",
    "from sklearn import metrics\n",
    "from sklearn import tree\n",
    "from imblearn.over_sampling import SMOTE\n",
    "from collections import Counter\n",
    "import warnings\n",
    "warnings.filterwarnings('ignore')"
   ]
  },
  {
   "cell_type": "code",
   "execution_count": 107,
   "id": "d8d1c865-deb5-480a-8859-fcfe0c6d96ec",
   "metadata": {},
   "outputs": [
    {
     "data": {
      "text/html": [
       "<div>\n",
       "<style scoped>\n",
       "    .dataframe tbody tr th:only-of-type {\n",
       "        vertical-align: middle;\n",
       "    }\n",
       "\n",
       "    .dataframe tbody tr th {\n",
       "        vertical-align: top;\n",
       "    }\n",
       "\n",
       "    .dataframe thead th {\n",
       "        text-align: right;\n",
       "    }\n",
       "</style>\n",
       "<table border=\"1\" class=\"dataframe\">\n",
       "  <thead>\n",
       "    <tr style=\"text-align: right;\">\n",
       "      <th></th>\n",
       "      <th>temparature</th>\n",
       "      <th>humidity</th>\n",
       "      <th>moisture</th>\n",
       "      <th>soil</th>\n",
       "      <th>crop</th>\n",
       "      <th>N</th>\n",
       "      <th>K</th>\n",
       "      <th>P</th>\n",
       "      <th>label</th>\n",
       "    </tr>\n",
       "  </thead>\n",
       "  <tbody>\n",
       "    <tr>\n",
       "      <th>0</th>\n",
       "      <td>26</td>\n",
       "      <td>52</td>\n",
       "      <td>38</td>\n",
       "      <td>Sandy</td>\n",
       "      <td>Maize</td>\n",
       "      <td>37</td>\n",
       "      <td>0</td>\n",
       "      <td>0</td>\n",
       "      <td>Urea</td>\n",
       "    </tr>\n",
       "    <tr>\n",
       "      <th>1</th>\n",
       "      <td>29</td>\n",
       "      <td>52</td>\n",
       "      <td>45</td>\n",
       "      <td>Loamy</td>\n",
       "      <td>Sugarcane</td>\n",
       "      <td>12</td>\n",
       "      <td>0</td>\n",
       "      <td>36</td>\n",
       "      <td>DAP</td>\n",
       "    </tr>\n",
       "    <tr>\n",
       "      <th>2</th>\n",
       "      <td>34</td>\n",
       "      <td>65</td>\n",
       "      <td>62</td>\n",
       "      <td>Black</td>\n",
       "      <td>Cotton</td>\n",
       "      <td>7</td>\n",
       "      <td>9</td>\n",
       "      <td>30</td>\n",
       "      <td>14-35-14</td>\n",
       "    </tr>\n",
       "    <tr>\n",
       "      <th>3</th>\n",
       "      <td>32</td>\n",
       "      <td>62</td>\n",
       "      <td>34</td>\n",
       "      <td>Red</td>\n",
       "      <td>Tobacco</td>\n",
       "      <td>22</td>\n",
       "      <td>0</td>\n",
       "      <td>20</td>\n",
       "      <td>28-28</td>\n",
       "    </tr>\n",
       "    <tr>\n",
       "      <th>4</th>\n",
       "      <td>28</td>\n",
       "      <td>54</td>\n",
       "      <td>46</td>\n",
       "      <td>Clayey</td>\n",
       "      <td>Paddy</td>\n",
       "      <td>35</td>\n",
       "      <td>0</td>\n",
       "      <td>0</td>\n",
       "      <td>Urea</td>\n",
       "    </tr>\n",
       "  </tbody>\n",
       "</table>\n",
       "</div>"
      ],
      "text/plain": [
       "   temparature  humidity  moisture    soil       crop   N  K   P     label\n",
       "0           26        52        38   Sandy      Maize  37  0   0      Urea\n",
       "1           29        52        45   Loamy  Sugarcane  12  0  36       DAP\n",
       "2           34        65        62   Black     Cotton   7  9  30  14-35-14\n",
       "3           32        62        34     Red    Tobacco  22  0  20     28-28\n",
       "4           28        54        46  Clayey      Paddy  35  0   0      Urea"
      ]
     },
     "execution_count": 107,
     "metadata": {},
     "output_type": "execute_result"
    }
   ],
   "source": [
    "data = pd.read_csv(\"datasets/fertilizer_recommendation.csv\")\n",
    "data.head()"
   ]
  },
  {
   "cell_type": "code",
   "execution_count": 108,
   "id": "08dc1bec-56e3-40a8-afbe-084b5c5523d7",
   "metadata": {},
   "outputs": [
    {
     "data": {
      "text/plain": [
       "array(['Urea', 'DAP', '14-35-14', '28-28', '17-17-17', '20-20',\n",
       "       '10-26-26'], dtype=object)"
      ]
     },
     "execution_count": 108,
     "metadata": {},
     "output_type": "execute_result"
    }
   ],
   "source": [
    "data[\"label\"].unique()"
   ]
  },
  {
   "cell_type": "code",
   "execution_count": 109,
   "id": "b5a4b0c5-09b8-44e1-956b-8ec16efa8a4f",
   "metadata": {},
   "outputs": [
    {
     "data": {
      "text/plain": [
       "array(['Sandy', 'Loamy', 'Black', 'Red', 'Clayey'], dtype=object)"
      ]
     },
     "execution_count": 109,
     "metadata": {},
     "output_type": "execute_result"
    }
   ],
   "source": [
    "data[\"soil\"].unique()"
   ]
  },
  {
   "cell_type": "code",
   "execution_count": 110,
   "id": "d7bb0f2f-5b09-4a91-9a2f-1f4a4abf0b7b",
   "metadata": {},
   "outputs": [
    {
     "data": {
      "text/plain": [
       "array(['Maize', 'Sugarcane', 'Cotton', 'Tobacco', 'Paddy', 'Barley',\n",
       "       'Wheat', 'Millets', 'Oil seeds', 'Pulses', 'Ground Nuts'],\n",
       "      dtype=object)"
      ]
     },
     "execution_count": 110,
     "metadata": {},
     "output_type": "execute_result"
    }
   ],
   "source": [
    "data[\"crop\"].unique()"
   ]
  },
  {
   "cell_type": "code",
   "execution_count": 111,
   "id": "09befe8a-dbda-417f-8ee0-23f10136ac1b",
   "metadata": {},
   "outputs": [
    {
     "data": {
      "text/plain": [
       "Index(['temparature', 'humidity', 'moisture', 'soil', 'crop', 'N', 'K', 'P',\n",
       "       'label'],\n",
       "      dtype='object')"
      ]
     },
     "execution_count": 111,
     "metadata": {},
     "output_type": "execute_result"
    }
   ],
   "source": [
    "data.columns"
   ]
  },
  {
   "cell_type": "code",
   "execution_count": 112,
   "id": "99106167-ab42-42ac-927d-615fe3ee7781",
   "metadata": {},
   "outputs": [
    {
     "data": {
      "image/png": "[encoded data removed]",
      "text/plain": [
       "<Figure size 900x500 with 1 Axes>"
      ]
     },
     "metadata": {},
     "output_type": "display_data"
    }
   ],
   "source": [
    "labels = data[\"label\"].unique()\n",
    "counts = list(data[\"label\"].value_counts())\n",
    "\n",
    "plt.figure(figsize = (9,5))\n",
    "plt.barh(labels, counts)\n",
    "  \n",
    "for index, value in enumerate(counts):\n",
    "    plt.text(value, index,\n",
    "             str(value))\n",
    "plt.show()"
   ]
  },
  {
   "cell_type": "code",
   "execution_count": 113,
   "id": "fa6c8d1a-ca8e-455a-84fc-858ad1db4e7f",
   "metadata": {},
   "outputs": [
    {
     "data": {
      "text/plain": [
       "<Axes: >"
      ]
     },
     "execution_count": 113,
     "metadata": {},
     "output_type": "execute_result"
    },
    {
     "data": {
      "image/png": "[encoded data removed]",
      "text/plain": [
       "<Figure size 640x480 with 2 Axes>"
      ]
     },
     "metadata": {},
     "output_type": "display_data"
    }
   ],
   "source": [
    "continuous_data_cols = [\"temparature\", \"humidity\", \"moisture\", \"N\", \"K\", \"P\"]\n",
    "categorical_data_cols = [\"soil\", \"crop\"]\n",
    "sns.heatmap(data[continuous_data_cols].corr(), center = 0, annot = True)\n"
   ]
  },
  {
   "cell_type": "code",
   "execution_count": 114,
   "id": "ff1163c4-1bca-4f0b-b6f2-8aa05361724b",
   "metadata": {},
   "outputs": [],
   "source": [
    "soil_type_label_encoder = LabelEncoder()\n",
    "data[\"soil\"] = soil_type_label_encoder.fit_transform(data[\"soil\"])"
   ]
  },
  {
   "cell_type": "code",
   "execution_count": 115,
   "id": "814d976a-6714-4c31-a686-736f7e18ef5a",
   "metadata": {},
   "outputs": [],
   "source": [
    "crop_type_label_encoder = LabelEncoder()\n",
    "data[\"crop\"] = crop_type_label_encoder.fit_transform(data[\"crop\"])"
   ]
  },
  {
   "cell_type": "code",
   "execution_count": 116,
   "id": "4b8cae5e-1eb1-4e8f-bacd-1daa9a4d0c4d",
   "metadata": {
    "scrolled": true
   },
   "outputs": [
    {
     "name": "stdout",
     "output_type": "stream",
     "text": [
      "{0: 'Barley', 1: 'Cotton', 2: 'Ground Nuts', 3: 'Maize', 4: 'Millets', 5: 'Oil seeds', 6: 'Paddy', 7: 'Pulses', 8: 'Sugarcane', 9: 'Tobacco', 10: 'Wheat'}\n",
      "{0: 'Black', 1: 'Clayey', 2: 'Loamy', 3: 'Red', 4: 'Sandy'}\n"
     ]
    }
   ],
   "source": [
    "croptype_dict = {}\n",
    "for i in range(len(data[\"crop\"].unique())):\n",
    "    croptype_dict[i] = crop_type_label_encoder.inverse_transform([i])[0]\n",
    "print(croptype_dict)\n",
    "\n",
    "soiltype_dict = {}\n",
    "for i in range(len(data[\"soil\"].unique())):\n",
    "    soiltype_dict[i] = soil_type_label_encoder.inverse_transform([i])[0]\n",
    "print(soiltype_dict)"
   ]
  },
  {
   "cell_type": "code",
   "execution_count": 117,
   "id": "db62f041-c539-495d-9179-25d062ea0034",
   "metadata": {},
   "outputs": [],
   "source": [
    "fertname_label_encoder = LabelEncoder()\n",
    "data[\"label\"] = fertname_label_encoder.fit_transform(data[\"label\"])"
   ]
  },
  {
   "cell_type": "code",
   "execution_count": 118,
   "id": "15dfe9a4-d7cd-4b15-8b0f-0165257109bf",
   "metadata": {},
   "outputs": [
    {
     "name": "stdout",
     "output_type": "stream",
     "text": [
      "{0: '10-26-26', 1: '14-35-14', 2: '17-17-17', 3: '20-20', 4: '28-28', 5: 'DAP', 6: 'Urea'}\n"
     ]
    }
   ],
   "source": [
    "fertname_dict = {}\n",
    "for i in range(len(data[\"label\"].unique())):\n",
    "    fertname_dict[i] = fertname_label_encoder.inverse_transform([i])[0]\n",
    "print(fertname_dict)"
   ]
  },
  {
   "cell_type": "code",
   "execution_count": 119,
   "id": "bfa98ec7-9034-4cfa-9a83-253e633595ee",
   "metadata": {},
   "outputs": [
    {
     "data": {
      "text/html": [
       "<div>\n",
       "<style scoped>\n",
       "    .dataframe tbody tr th:only-of-type {\n",
       "        vertical-align: middle;\n",
       "    }\n",
       "\n",
       "    .dataframe tbody tr th {\n",
       "        vertical-align: top;\n",
       "    }\n",
       "\n",
       "    .dataframe thead th {\n",
       "        text-align: right;\n",
       "    }\n",
       "</style>\n",
       "<table border=\"1\" class=\"dataframe\">\n",
       "  <thead>\n",
       "    <tr style=\"text-align: right;\">\n",
       "      <th></th>\n",
       "      <th>temparature</th>\n",
       "      <th>humidity</th>\n",
       "      <th>moisture</th>\n",
       "      <th>soil</th>\n",
       "      <th>crop</th>\n",
       "      <th>N</th>\n",
       "      <th>K</th>\n",
       "      <th>P</th>\n",
       "      <th>label</th>\n",
       "    </tr>\n",
       "  </thead>\n",
       "  <tbody>\n",
       "    <tr>\n",
       "      <th>0</th>\n",
       "      <td>26</td>\n",
       "      <td>52</td>\n",
       "      <td>38</td>\n",
       "      <td>4</td>\n",
       "      <td>3</td>\n",
       "      <td>37</td>\n",
       "      <td>0</td>\n",
       "      <td>0</td>\n",
       "      <td>6</td>\n",
       "    </tr>\n",
       "    <tr>\n",
       "      <th>1</th>\n",
       "      <td>29</td>\n",
       "      <td>52</td>\n",
       "      <td>45</td>\n",
       "      <td>2</td>\n",
       "      <td>8</td>\n",
       "      <td>12</td>\n",
       "      <td>0</td>\n",
       "      <td>36</td>\n",
       "      <td>5</td>\n",
       "    </tr>\n",
       "    <tr>\n",
       "      <th>2</th>\n",
       "      <td>34</td>\n",
       "      <td>65</td>\n",
       "      <td>62</td>\n",
       "      <td>0</td>\n",
       "      <td>1</td>\n",
       "      <td>7</td>\n",
       "      <td>9</td>\n",
       "      <td>30</td>\n",
       "      <td>1</td>\n",
       "    </tr>\n",
       "    <tr>\n",
       "      <th>3</th>\n",
       "      <td>32</td>\n",
       "      <td>62</td>\n",
       "      <td>34</td>\n",
       "      <td>3</td>\n",
       "      <td>9</td>\n",
       "      <td>22</td>\n",
       "      <td>0</td>\n",
       "      <td>20</td>\n",
       "      <td>4</td>\n",
       "    </tr>\n",
       "    <tr>\n",
       "      <th>4</th>\n",
       "      <td>28</td>\n",
       "      <td>54</td>\n",
       "      <td>46</td>\n",
       "      <td>1</td>\n",
       "      <td>6</td>\n",
       "      <td>35</td>\n",
       "      <td>0</td>\n",
       "      <td>0</td>\n",
       "      <td>6</td>\n",
       "    </tr>\n",
       "  </tbody>\n",
       "</table>\n",
       "</div>"
      ],
      "text/plain": [
       "   temparature  humidity  moisture  soil  crop   N  K   P  label\n",
       "0           26        52        38     4     3  37  0   0      6\n",
       "1           29        52        45     2     8  12  0  36      5\n",
       "2           34        65        62     0     1   7  9  30      1\n",
       "3           32        62        34     3     9  22  0  20      4\n",
       "4           28        54        46     1     6  35  0   0      6"
      ]
     },
     "execution_count": 119,
     "metadata": {},
     "output_type": "execute_result"
    }
   ],
   "source": [
    "data.head()"
   ]
  },
  {
   "cell_type": "code",
   "execution_count": 120,
   "id": "ae6f1785-3ce2-4e33-8cbb-c63d85ed9cdd",
   "metadata": {},
   "outputs": [
    {
     "data": {
      "text/plain": [
       "Counter({6: 22, 5: 18, 4: 17, 1: 14, 3: 14, 2: 7, 0: 7})"
      ]
     },
     "execution_count": 120,
     "metadata": {},
     "output_type": "execute_result"
    }
   ],
   "source": [
    "X = data[data.columns[:-1]]\n",
    "y = data[data.columns[-1]]\n",
    "counter = Counter(y)\n",
    "counter"
   ]
  },
  {
   "cell_type": "code",
   "execution_count": 121,
   "id": "660a069c-c146-4837-b64d-035923e1f7bc",
   "metadata": {},
   "outputs": [
    {
     "name": "stdout",
     "output_type": "stream",
     "text": [
      "Counter({6: 22, 5: 22, 1: 22, 4: 22, 2: 22, 3: 22, 0: 22})\n"
     ]
    }
   ],
   "source": [
    "from imblearn.over_sampling import SMOTE\n",
    "upsample = SMOTE()\n",
    "X, y = upsample.fit_resample(X, y)\n",
    "counter = Counter(y)\n",
    "print(counter)"
   ]
  },
  {
   "cell_type": "code",
   "execution_count": 122,
   "id": "c8d3d7e8-00af-47e5-b882-6aad59c6ca7a",
   "metadata": {},
   "outputs": [
    {
     "name": "stdout",
     "output_type": "stream",
     "text": [
      "Total Data after Upsampling: 154\n"
     ]
    }
   ],
   "source": [
    "print(f\"Total Data after Upsampling: {len(X)}\")"
   ]
  },
  {
   "cell_type": "code",
   "execution_count": 123,
   "id": "4e2e747c-ca3f-4e37-b28c-8c887ca8b98b",
   "metadata": {},
   "outputs": [],
   "source": [
    "# Initialzing empty lists to append all model's name and corresponding name\n",
    "acc = []\n",
    "model = []"
   ]
  },
  {
   "cell_type": "code",
   "execution_count": 124,
   "id": "9611e8f0-5b27-4ed7-a2fc-8ed0d3c0cb77",
   "metadata": {},
   "outputs": [
    {
     "name": "stdout",
     "output_type": "stream",
     "text": [
      "Train Data: (123, 8), (123,)\n",
      "Train Data: (31, 8), (31,)\n"
     ]
    },
    {
     "data": {
      "text/plain": [
       "array([[33, 64, 39,  1,  6, 13,  0, 10],\n",
       "       [27, 54, 31,  1,  6, 11,  0, 13],\n",
       "       [25, 50, 56,  2,  8, 11, 13, 15],\n",
       "       [30, 60, 42,  4,  4, 21,  0, 18],\n",
       "       [32, 62, 30,  2,  8, 38,  0,  0],\n",
       "       [27, 53, 59,  2,  8, 10,  0, 15],\n",
       "       [30, 60, 58,  2,  8, 10,  7, 32],\n",
       "       [32, 63, 46,  2,  8, 22,  0, 18],\n",
       "       [25, 50, 40,  1,  7,  6, 19, 16],\n",
       "       [28, 56, 57,  0,  8, 11,  0, 11],\n",
       "       [29, 58, 65,  0,  1, 14,  0, 35],\n",
       "       [35, 68, 33,  3,  9, 11,  0, 37],\n",
       "       [25, 50, 39,  4,  0, 21,  0, 19],\n",
       "       [25, 50, 50,  2,  5, 11, 12, 14],\n",
       "       [36, 68, 33,  0,  5, 13,  0, 14],\n",
       "       [28, 54, 37,  0,  4, 36,  0,  0],\n",
       "       [26, 52, 59,  2,  8, 11,  0,  9],\n",
       "       [34, 65, 34,  1,  4, 12,  0, 14],\n",
       "       [31, 62, 44,  4,  0, 21,  0, 28],\n",
       "       [38, 70, 48,  2, 10,  8,  8, 28],\n",
       "       [28, 54, 35,  0,  4, 41,  0,  0],\n",
       "       [29, 56, 46,  3,  1,  5, 18, 16],\n",
       "       [34, 65, 31,  3,  9, 23,  0, 21],\n",
       "       [27, 53, 34,  0,  5, 42,  0,  0],\n",
       "       [26, 52, 48,  2, 10, 23,  0, 19],\n",
       "       [32, 63, 57,  2,  4, 11, 13, 13],\n",
       "       [29, 58, 52,  2, 10, 13,  0, 36],\n",
       "       [26, 53, 43,  3,  3, 23,  0, 19],\n",
       "       [38, 72, 51,  2, 10, 39,  0,  0],\n",
       "       [28, 54, 46,  1,  6, 35,  0,  0],\n",
       "       [25, 50, 65,  2,  1, 36,  0,  0],\n",
       "       [27, 55, 39,  4,  1, 12, 11, 12],\n",
       "       [26, 52, 39,  1,  7, 21,  0, 23],\n",
       "       [27, 54, 28,  1,  7, 13,  0, 40],\n",
       "       [31, 62, 48,  4,  3, 14, 15, 12],\n",
       "       [29, 58, 57,  0,  8, 12,  0, 10],\n",
       "       [25, 51, 43,  3,  3, 23,  0, 19],\n",
       "       [32, 62, 45,  1,  4,  5, 18, 19],\n",
       "       [29, 58, 33,  0,  5,  9,  7, 30],\n",
       "       [33, 64, 56,  2,  5, 11, 13, 12],\n",
       "       [30, 60, 27,  3,  9,  4, 17, 17],\n",
       "       [26, 52, 36,  1,  7, 14,  0, 13],\n",
       "       [29, 58, 34,  4,  4, 15,  0, 37],\n",
       "       [26, 52, 36,  1,  7,  5, 18, 16],\n",
       "       [28, 55, 39,  0,  5,  9,  7, 29],\n",
       "       [30, 60, 59,  2,  5,  9,  7, 30],\n",
       "       [31, 61, 46,  1,  8,  9, 18, 17],\n",
       "       [32, 62, 34,  3,  2, 15,  0, 37],\n",
       "       [27, 53, 30,  0,  4, 35,  0,  0],\n",
       "       [35, 67, 42,  4,  0, 10,  0, 35],\n",
       "       [30, 60, 61,  2,  1,  8, 10, 31],\n",
       "       [31, 62, 54,  3,  2,  6,  9, 29],\n",
       "       [29, 59, 49,  2,  9, 12,  0,  9],\n",
       "       [28, 54, 38,  1,  7, 40,  0,  0],\n",
       "       [31, 62, 48,  0,  6, 10, 13, 13],\n",
       "       [30, 60, 49,  2, 10, 13,  0,  9],\n",
       "       [26, 53, 37,  4,  0, 12, 10, 12],\n",
       "       [29, 58, 40,  3,  2, 24,  0, 23],\n",
       "       [36, 69, 35,  1,  6, 11,  0, 39],\n",
       "       [32, 62, 41,  1,  6, 24,  0, 22],\n",
       "       [27, 53, 43,  0,  4, 23,  0, 24],\n",
       "       [29, 58, 42,  1,  6,  9, 10, 22],\n",
       "       [26, 53, 35,  1,  7,  9, 18, 16],\n",
       "       [31, 62, 62,  2,  1, 10, 12, 14],\n",
       "       [34, 65, 38,  1,  6, 39,  0,  0],\n",
       "       [28, 54, 43,  1,  6, 10,  8, 29],\n",
       "       [33, 64, 34,  1,  7, 38,  0,  0],\n",
       "       [34, 65, 45,  1,  6,  6, 19, 21],\n",
       "       [27, 53, 45,  3,  1,  5, 18, 15],\n",
       "       [32, 62, 45,  1,  4,  5, 18, 19],\n",
       "       [33, 64, 31,  3,  2, 13,  0, 39],\n",
       "       [35, 67, 28,  1,  7,  8,  7, 31],\n",
       "       [29, 52, 45,  2,  8, 12,  0, 36],\n",
       "       [25, 51, 33,  3,  0, 12, 10, 12],\n",
       "       [26, 52, 32,  0,  5, 12,  0,  8],\n",
       "       [31, 62, 56,  1,  4, 10, 12, 14],\n",
       "       [31, 62, 32,  3,  9, 39,  0,  0],\n",
       "       [28, 56, 37,  3,  5,  9, 17, 15],\n",
       "       [34, 65, 54,  2, 10, 38,  0,  0],\n",
       "       [26, 53, 37,  3,  1, 11, 10, 13],\n",
       "       [28, 54, 47,  4,  0,  5, 18, 15],\n",
       "       [28, 54, 65,  0,  1, 39,  0,  0],\n",
       "       [33, 64, 49,  2,  7, 10, 18, 17],\n",
       "       [27, 53, 35,  0,  5, 37,  0,  0],\n",
       "       [36, 61, 41,  3,  4, 14,  0, 41],\n",
       "       [31, 62, 63,  3,  1, 11, 12, 15],\n",
       "       [37, 70, 32,  0,  5, 12,  0, 39],\n",
       "       [32, 63, 51,  3,  3,  5,  8, 29],\n",
       "       [26, 52, 36,  1,  7,  7, 16, 20],\n",
       "       [31, 62, 42,  2,  3, 22,  0, 24],\n",
       "       [33, 64, 51,  4,  3,  5,  9, 29],\n",
       "       [25, 50, 32,  1,  7, 24,  0, 19],\n",
       "       [30, 60, 44,  4,  4, 10,  0,  9],\n",
       "       [37, 70, 37,  1,  6, 12,  0, 41],\n",
       "       [30, 60, 29,  3,  2, 41,  0,  0],\n",
       "       [34, 65, 63,  3,  1, 14,  0, 38],\n",
       "       [31, 62, 56,  1,  4, 10, 12, 14],\n",
       "       [36, 68, 38,  4,  0,  7,  9, 30],\n",
       "       [33, 64, 50,  2, 10, 41,  0,  0],\n",
       "       [34, 65, 64,  0,  1, 24,  0, 20],\n",
       "       [31, 61, 63,  1,  1, 14,  0, 36],\n",
       "       [36, 60, 43,  4,  4, 15,  0, 41],\n",
       "       [26, 53, 36,  1,  7,  7, 16, 19],\n",
       "       [29, 59, 27,  3,  9,  6, 17, 16],\n",
       "       [30, 60, 38,  4,  4, 10,  0, 14],\n",
       "       [30, 60, 26,  0,  5,  8,  9, 30],\n",
       "       [25, 51, 33,  3,  0, 12, 10, 12],\n",
       "       [28, 54, 41,  1,  6, 36,  0,  0],\n",
       "       [34, 65, 62,  0,  1,  7,  9, 30],\n",
       "       [34, 65, 57,  0,  8,  9,  0, 13],\n",
       "       [30, 60, 40,  4,  4, 41,  0,  0],\n",
       "       [30, 60, 63,  3,  1,  9,  9, 29],\n",
       "       [27, 54, 35,  1,  4, 11,  0,  8],\n",
       "       [28, 54, 25,  4,  3,  9, 10, 30],\n",
       "       [30, 60, 26,  0,  5,  8,  8, 30],\n",
       "       [29, 59, 37,  3,  4, 10,  0, 13],\n",
       "       [25, 50, 40,  1,  7,  6, 18, 16],\n",
       "       [33, 64, 31,  3,  9, 22,  0, 21],\n",
       "       [34, 65, 53,  2,  8, 12, 14, 12],\n",
       "       [26, 52, 38,  4,  3, 37,  0,  0],\n",
       "       [31, 62, 49,  0,  8, 10, 13, 13],\n",
       "       [29, 56, 37,  3,  5, 14,  0, 36],\n",
       "       [35, 67, 49,  1,  9, 11, 18, 19]], dtype=int64)"
      ]
     },
     "execution_count": 124,
     "metadata": {},
     "output_type": "execute_result"
    }
   ],
   "source": [
    "X_train, X_test, y_train, y_test = train_test_split(X.values, y, test_size = 0.2, random_state = 3)\n",
    "print(f\"Train Data: {X_train.shape}, {y_train.shape}\")\n",
    "print(f\"Train Data: {X_test.shape}, {y_test.shape}\")\n",
    "X_train"
   ]
  },
  {
   "cell_type": "code",
   "execution_count": 125,
   "id": "752aaae5-f109-4b0c-88aa-7631bb388963",
   "metadata": {},
   "outputs": [
    {
     "data": {
      "text/plain": [
       "array([[ 0.88214705,  0.92127882, -0.40835424, -0.65542077,  0.35787287,\n",
       "        -0.2980707 , -0.80230348, -0.68739236],\n",
       "       [-0.90148178, -0.87455787, -1.17372675, -0.65542077,  0.35787287,\n",
       "        -0.48138419, -0.80230348, -0.43399797],\n",
       "       [-1.49602472, -1.59289254,  1.21806235,  0.10511465,  1.05107543,\n",
       "        -0.48138419,  1.09826432, -0.26506838],\n",
       "       [-0.00966736,  0.20294415, -0.12133954,  1.6261855 , -0.33532969,\n",
       "         0.43518323, -0.80230348, -0.011674  ],\n",
       "       [ 0.58487558,  0.56211148, -1.26939831,  0.10511465,  1.05107543,\n",
       "         1.99334783, -0.80230348, -1.53204031],\n",
       "       [-0.90148178, -1.05414154,  1.50507704,  0.10511465,  1.05107543,\n",
       "        -0.57304093, -0.80230348, -0.26506838],\n",
       "       [-0.00966736,  0.20294415,  1.40940548,  0.10511465,  1.05107543,\n",
       "        -0.57304093,  0.22107918,  1.17083314],\n",
       "       [ 0.58487558,  0.74169515,  0.26134671,  0.10511465,  1.05107543,\n",
       "         0.52683997, -0.80230348, -0.011674  ],\n",
       "       [-1.49602472, -1.59289254, -0.31268267, -0.65542077,  0.70447415,\n",
       "        -0.93966789,  1.97544946, -0.18060359],\n",
       "       [-0.60421031, -0.51539053,  1.31373391, -1.4159562 ,  1.05107543,\n",
       "        -0.48138419, -0.80230348, -0.60292756],\n",
       "       [-0.30693884, -0.15622319,  2.07910642, -1.4159562 , -1.37513354,\n",
       "        -0.20641396, -0.80230348,  1.42422752],\n",
       "       [ 1.47668999,  1.6396135 , -0.98238362,  0.86565008,  1.39767671,\n",
       "        -0.48138419, -0.80230348,  1.59315711],\n",
       "       [-1.49602472, -1.59289254, -0.40835424,  1.6261855 , -1.72173482,\n",
       "         0.43518323, -0.80230348,  0.0727908 ],\n",
       "       [-1.49602472, -1.59289254,  0.64403297,  0.10511465,  0.01127159,\n",
       "        -0.48138419,  0.9520668 , -0.34953318],\n",
       "       [ 1.77396146,  1.6396135 , -0.98238362, -1.4159562 ,  0.01127159,\n",
       "        -0.2980707 , -0.80230348, -0.34953318],\n",
       "       [-0.60421031, -0.87455787, -0.59969736, -1.4159562 , -0.33532969,\n",
       "         1.81003434, -0.80230348, -1.53204031],\n",
       "       [-1.19875325, -1.23372521,  1.50507704,  0.10511465,  1.05107543,\n",
       "        -0.48138419, -0.80230348, -0.77185715],\n",
       "       [ 1.17941852,  1.10086249, -0.88671205, -0.65542077, -0.33532969,\n",
       "        -0.38972744, -0.80230348, -0.34953318],\n",
       "       [ 0.28760411,  0.56211148,  0.07000358,  1.6261855 , -1.72173482,\n",
       "         0.43518323, -0.80230348,  0.83297396],\n",
       "       [ 2.3685044 ,  1.99878084,  0.45268984,  0.10511465,  1.74427799,\n",
       "        -0.75635441,  0.3672767 ,  0.83297396],\n",
       "       [-0.60421031, -0.87455787, -0.79104049, -1.4159562 , -0.33532969,\n",
       "         2.26831805, -0.80230348, -1.53204031],\n",
       "       [-0.30693884, -0.51539053,  0.26134671,  0.86565008, -1.37513354,\n",
       "        -1.03132463,  1.82925194, -0.18060359],\n",
       "       [ 1.17941852,  1.10086249, -1.17372675,  0.86565008,  1.39767671,\n",
       "         0.61849671, -0.80230348,  0.24172039],\n",
       "       [-0.90148178, -1.05414154, -0.88671205, -1.4159562 ,  0.01127159,\n",
       "         2.35997479, -0.80230348, -1.53204031],\n",
       "       [-1.19875325, -1.23372521,  0.45268984,  0.10511465,  1.74427799,\n",
       "         0.61849671, -0.80230348,  0.0727908 ],\n",
       "       [ 0.58487558,  0.74169515,  1.31373391,  0.10511465, -0.33532969,\n",
       "        -0.48138419,  1.09826432, -0.43399797],\n",
       "       [-0.30693884, -0.15622319,  0.83537609,  0.10511465,  1.74427799,\n",
       "        -0.2980707 , -0.80230348,  1.50869232],\n",
       "       [-1.19875325, -1.05414154, -0.02566798,  0.86565008, -0.68193098,\n",
       "         0.61849671, -0.80230348,  0.0727908 ],\n",
       "       [ 2.3685044 ,  2.35794817,  0.73970453,  0.10511465,  1.74427799,\n",
       "         2.08500457, -0.80230348, -1.53204031],\n",
       "       [-0.60421031, -0.87455787,  0.26134671, -0.65542077,  0.35787287,\n",
       "         1.7183776 , -0.80230348, -1.53204031],\n",
       "       [-1.49602472, -1.59289254,  2.07910642,  0.10511465, -1.37513354,\n",
       "         1.81003434, -0.80230348, -1.53204031],\n",
       "       [-0.90148178, -0.6949742 , -0.40835424,  1.6261855 , -1.37513354,\n",
       "        -0.38972744,  0.80586927, -0.51846277],\n",
       "       [-1.19875325, -1.23372521, -0.40835424, -0.65542077,  0.70447415,\n",
       "         0.43518323, -0.80230348,  0.41064998],\n",
       "       [-0.90148178, -0.87455787, -1.46074144, -0.65542077,  0.70447415,\n",
       "        -0.2980707 , -0.80230348,  1.8465515 ],\n",
       "       [ 0.28760411,  0.56211148,  0.45268984,  1.6261855 , -0.68193098,\n",
       "        -0.20641396,  1.39065937, -0.51846277],\n",
       "       [-0.30693884, -0.15622319,  1.31373391, -1.4159562 ,  1.05107543,\n",
       "        -0.38972744, -0.80230348, -0.68739236],\n",
       "       [-1.49602472, -1.41330887, -0.02566798,  0.86565008, -0.68193098,\n",
       "         0.61849671, -0.80230348,  0.0727908 ],\n",
       "       [ 0.58487558,  0.56211148,  0.16567515, -0.65542077, -0.33532969,\n",
       "        -1.03132463,  1.82925194,  0.0727908 ],\n",
       "       [-0.30693884, -0.15622319, -0.98238362, -1.4159562 ,  0.01127159,\n",
       "        -0.66469767,  0.22107918,  1.00190355],\n",
       "       [ 0.88214705,  0.92127882,  1.21806235,  0.10511465,  0.01127159,\n",
       "        -0.48138419,  1.09826432, -0.51846277],\n",
       "       [-0.00966736,  0.20294415, -1.556413  ,  0.86565008,  1.39767671,\n",
       "        -1.12298137,  1.68305441, -0.09613879],\n",
       "       [-1.19875325, -1.23372521, -0.69536893, -0.65542077,  0.70447415,\n",
       "        -0.20641396, -0.80230348, -0.43399797],\n",
       "       [-0.30693884, -0.15622319, -0.88671205,  1.6261855 , -0.33532969,\n",
       "        -0.11475722, -0.80230348,  1.59315711],\n",
       "       [-1.19875325, -1.23372521, -0.69536893, -0.65542077,  0.70447415,\n",
       "        -1.03132463,  1.82925194, -0.18060359],\n",
       "       [-0.60421031, -0.6949742 , -0.40835424, -1.4159562 ,  0.01127159,\n",
       "        -0.66469767,  0.22107918,  0.91743875],\n",
       "       [-0.00966736,  0.20294415,  1.50507704,  0.10511465,  0.01127159,\n",
       "        -0.66469767,  0.22107918,  1.00190355],\n",
       "       [ 0.28760411,  0.38252782,  0.26134671, -0.65542077,  1.05107543,\n",
       "        -0.66469767,  1.82925194, -0.09613879],\n",
       "       [ 0.58487558,  0.56211148, -0.88671205,  0.86565008, -1.02853226,\n",
       "        -0.11475722, -0.80230348,  1.59315711],\n",
       "       [-0.90148178, -1.05414154, -1.26939831, -1.4159562 , -0.33532969,\n",
       "         1.7183776 , -0.80230348, -1.53204031],\n",
       "       [ 1.47668999,  1.46002983, -0.12133954,  1.6261855 , -1.72173482,\n",
       "        -0.57304093, -0.80230348,  1.42422752],\n",
       "       [-0.00966736,  0.20294415,  1.69642017,  0.10511465, -1.37513354,\n",
       "        -0.75635441,  0.65967175,  1.08636834],\n",
       "       [ 0.28760411,  0.56211148,  1.02671922,  0.86565008, -1.02853226,\n",
       "        -0.93966789,  0.51347423,  0.91743875],\n",
       "       [-0.30693884,  0.02336048,  0.5483614 ,  0.10511465,  1.39767671,\n",
       "        -0.38972744, -0.80230348, -0.77185715],\n",
       "       [-0.60421031, -0.87455787, -0.5040258 , -0.65542077,  0.70447415,\n",
       "         2.17666131, -0.80230348, -1.53204031],\n",
       "       [ 0.28760411,  0.56211148,  0.45268984, -1.4159562 ,  0.35787287,\n",
       "        -0.57304093,  1.09826432, -0.43399797],\n",
       "       [-0.00966736,  0.20294415,  0.5483614 ,  0.10511465,  1.74427799,\n",
       "        -0.2980707 , -0.80230348, -0.77185715],\n",
       "       [-1.19875325, -1.05414154, -0.59969736,  1.6261855 , -1.72173482,\n",
       "        -0.38972744,  0.65967175, -0.51846277],\n",
       "       [-0.30693884, -0.15622319, -0.31268267,  0.86565008, -1.02853226,\n",
       "         0.71015345, -0.80230348,  0.41064998],\n",
       "       [ 1.77396146,  1.81919717, -0.79104049, -0.65542077,  0.35787287,\n",
       "        -0.48138419, -0.80230348,  1.7620867 ],\n",
       "       [ 0.58487558,  0.56211148, -0.21701111, -0.65542077,  0.35787287,\n",
       "         0.71015345, -0.80230348,  0.32618518],\n",
       "       [-0.90148178, -1.05414154, -0.02566798, -1.4159562 , -0.33532969,\n",
       "         0.61849671, -0.80230348,  0.49511477],\n",
       "       [-0.30693884, -0.15622319, -0.12133954, -0.65542077,  0.35787287,\n",
       "        -0.66469767,  0.65967175,  0.32618518],\n",
       "       [-1.19875325, -1.05414154, -0.79104049, -0.65542077,  0.70447415,\n",
       "        -0.66469767,  1.82925194, -0.18060359],\n",
       "       [ 0.28760411,  0.56211148,  1.79209173,  0.10511465, -1.37513354,\n",
       "        -0.57304093,  0.9520668 , -0.34953318],\n",
       "       [ 1.17941852,  1.10086249, -0.5040258 , -0.65542077,  0.35787287,\n",
       "         2.08500457, -0.80230348, -1.53204031],\n",
       "       [-0.60421031, -0.87455787, -0.02566798, -0.65542077,  0.35787287,\n",
       "        -0.57304093,  0.3672767 ,  0.91743875],\n",
       "       [ 0.88214705,  0.92127882, -0.88671205, -0.65542077,  0.70447415,\n",
       "         1.99334783, -0.80230348, -1.53204031],\n",
       "       [ 1.17941852,  1.10086249,  0.16567515, -0.65542077,  0.35787287,\n",
       "        -0.93966789,  1.97544946,  0.24172039],\n",
       "       [-0.90148178, -1.05414154,  0.16567515,  0.86565008, -1.37513354,\n",
       "        -1.03132463,  1.82925194, -0.26506838],\n",
       "       [ 0.58487558,  0.56211148,  0.16567515, -0.65542077, -0.33532969,\n",
       "        -1.03132463,  1.82925194,  0.0727908 ],\n",
       "       [ 0.88214705,  0.92127882, -1.17372675,  0.86565008, -1.02853226,\n",
       "        -0.2980707 , -0.80230348,  1.7620867 ],\n",
       "       [ 1.47668999,  1.46002983, -1.46074144, -0.65542077,  0.70447415,\n",
       "        -0.75635441,  0.22107918,  1.08636834],\n",
       "       [-0.30693884, -1.23372521,  0.16567515,  0.10511465,  1.05107543,\n",
       "        -0.38972744, -0.80230348,  1.50869232],\n",
       "       [-1.49602472, -1.41330887, -0.98238362,  0.86565008, -1.72173482,\n",
       "        -0.38972744,  0.65967175, -0.51846277],\n",
       "       [-1.19875325, -1.23372521, -1.07805518, -1.4159562 ,  0.01127159,\n",
       "        -0.38972744, -0.80230348, -0.85632195],\n",
       "       [ 0.28760411,  0.56211148,  1.21806235, -0.65542077, -0.33532969,\n",
       "        -0.57304093,  0.9520668 , -0.34953318],\n",
       "       [ 0.28760411,  0.56211148, -1.07805518,  0.86565008,  1.39767671,\n",
       "         2.08500457, -0.80230348, -1.53204031],\n",
       "       [-0.60421031, -0.51539053, -0.59969736,  0.86565008,  0.01127159,\n",
       "        -0.66469767,  1.68305441, -0.26506838],\n",
       "       [ 1.17941852,  1.10086249,  1.02671922,  0.10511465,  1.74427799,\n",
       "         1.99334783, -0.80230348, -1.53204031],\n",
       "       [-1.19875325, -1.05414154, -0.59969736,  0.86565008, -1.37513354,\n",
       "        -0.48138419,  0.65967175, -0.43399797],\n",
       "       [-0.60421031, -0.87455787,  0.35701827,  1.6261855 , -1.72173482,\n",
       "        -1.03132463,  1.82925194, -0.26506838],\n",
       "       [-0.60421031, -0.87455787,  2.07910642, -1.4159562 , -1.37513354,\n",
       "         2.08500457, -0.80230348, -1.53204031],\n",
       "       [ 0.88214705,  0.92127882,  0.5483614 ,  0.10511465,  0.70447415,\n",
       "        -0.57304093,  1.82925194, -0.09613879],\n",
       "       [-0.90148178, -1.05414154, -0.79104049, -1.4159562 ,  0.01127159,\n",
       "         1.90169109, -0.80230348, -1.53204031],\n",
       "       [ 1.77396146,  0.38252782, -0.21701111,  0.86565008, -0.33532969,\n",
       "        -0.20641396, -0.80230348,  1.93101629],\n",
       "       [ 0.28760411,  0.56211148,  1.88776329,  0.86565008, -1.37513354,\n",
       "        -0.48138419,  0.9520668 , -0.26506838],\n",
       "       [ 2.07123293,  1.99878084, -1.07805518, -1.4159562 ,  0.01127159,\n",
       "        -0.38972744, -0.80230348,  1.7620867 ],\n",
       "       [ 0.58487558,  0.74169515,  0.73970453,  0.86565008, -0.68193098,\n",
       "        -1.03132463,  0.3672767 ,  0.91743875],\n",
       "       [-1.19875325, -1.23372521, -0.69536893, -0.65542077,  0.70447415,\n",
       "        -0.84801115,  1.53685689,  0.15725559],\n",
       "       [ 0.28760411,  0.56211148, -0.12133954,  0.10511465, -0.68193098,\n",
       "         0.52683997, -0.80230348,  0.49511477],\n",
       "       [ 0.88214705,  0.92127882,  0.73970453,  1.6261855 , -0.68193098,\n",
       "        -1.03132463,  0.51347423,  0.91743875],\n",
       "       [-1.49602472, -1.59289254, -1.07805518, -0.65542077,  0.70447415,\n",
       "         0.71015345, -0.80230348,  0.0727908 ],\n",
       "       [-0.00966736,  0.20294415,  0.07000358,  1.6261855 , -0.33532969,\n",
       "        -0.57304093, -0.80230348, -0.77185715],\n",
       "       [ 2.07123293,  1.99878084, -0.59969736, -0.65542077,  0.35787287,\n",
       "        -0.38972744, -0.80230348,  1.93101629],\n",
       "       [-0.00966736,  0.20294415, -1.36506987,  0.86565008, -1.02853226,\n",
       "         2.26831805, -0.80230348, -1.53204031],\n",
       "       [ 1.17941852,  1.10086249,  1.88776329,  0.86565008, -1.37513354,\n",
       "        -0.20641396, -0.80230348,  1.67762191],\n",
       "       [ 0.28760411,  0.56211148,  1.21806235, -0.65542077, -0.33532969,\n",
       "        -0.57304093,  0.9520668 , -0.34953318],\n",
       "       [ 1.77396146,  1.6396135 , -0.5040258 ,  1.6261855 , -1.72173482,\n",
       "        -0.84801115,  0.51347423,  1.00190355],\n",
       "       [ 0.88214705,  0.92127882,  0.64403297,  0.10511465,  1.74427799,\n",
       "         2.26831805, -0.80230348, -1.53204031],\n",
       "       [ 1.17941852,  1.10086249,  1.98343486, -1.4159562 , -1.37513354,\n",
       "         0.71015345, -0.80230348,  0.15725559],\n",
       "       [ 0.28760411,  0.38252782,  1.88776329, -0.65542077, -1.37513354,\n",
       "        -0.20641396, -0.80230348,  1.50869232],\n",
       "       [ 1.77396146,  0.20294415, -0.02566798,  1.6261855 , -0.33532969,\n",
       "        -0.11475722, -0.80230348,  1.93101629],\n",
       "       [-1.19875325, -1.05414154, -0.69536893, -0.65542077,  0.70447415,\n",
       "        -0.84801115,  1.53685689,  0.0727908 ],\n",
       "       [-0.30693884,  0.02336048, -1.556413  ,  0.86565008,  1.39767671,\n",
       "        -0.93966789,  1.68305441, -0.18060359],\n",
       "       [-0.00966736,  0.20294415, -0.5040258 ,  1.6261855 , -0.33532969,\n",
       "        -0.57304093, -0.80230348, -0.34953318],\n",
       "       [-0.00966736,  0.20294415, -1.65208456, -1.4159562 ,  0.01127159,\n",
       "        -0.75635441,  0.51347423,  1.00190355],\n",
       "       [-1.49602472, -1.41330887, -0.98238362,  0.86565008, -1.72173482,\n",
       "        -0.38972744,  0.65967175, -0.51846277],\n",
       "       [-0.60421031, -0.87455787, -0.21701111, -0.65542077,  0.35787287,\n",
       "         1.81003434, -0.80230348, -1.53204031],\n",
       "       [ 1.17941852,  1.10086249,  1.79209173, -1.4159562 , -1.37513354,\n",
       "        -0.84801115,  0.51347423,  1.00190355],\n",
       "       [ 1.17941852,  1.10086249,  1.31373391, -1.4159562 ,  1.05107543,\n",
       "        -0.66469767, -0.80230348, -0.43399797],\n",
       "       [-0.00966736,  0.20294415, -0.31268267,  1.6261855 , -0.33532969,\n",
       "         2.26831805, -0.80230348, -1.53204031],\n",
       "       [-0.00966736,  0.20294415,  1.88776329,  0.86565008, -1.37513354,\n",
       "        -0.66469767,  0.51347423,  0.91743875],\n",
       "       [-0.90148178, -0.87455787, -0.79104049, -0.65542077, -0.33532969,\n",
       "        -0.48138419, -0.80230348, -0.85632195],\n",
       "       [-0.60421031, -0.87455787, -1.74775613,  1.6261855 , -0.68193098,\n",
       "        -0.66469767,  0.65967175,  1.00190355],\n",
       "       [-0.00966736,  0.20294415, -1.65208456, -1.4159562 ,  0.01127159,\n",
       "        -0.75635441,  0.3672767 ,  1.00190355],\n",
       "       [-0.30693884,  0.02336048, -0.59969736,  0.86565008, -0.33532969,\n",
       "        -0.57304093, -0.80230348, -0.43399797],\n",
       "       [-1.49602472, -1.59289254, -0.31268267, -0.65542077,  0.70447415,\n",
       "        -0.93966789,  1.82925194, -0.18060359],\n",
       "       [ 0.88214705,  0.92127882, -1.17372675,  0.86565008,  1.39767671,\n",
       "         0.52683997, -0.80230348,  0.24172039],\n",
       "       [ 1.17941852,  1.10086249,  0.93104766,  0.10511465,  1.05107543,\n",
       "        -0.38972744,  1.24446184, -0.51846277],\n",
       "       [-1.19875325, -1.23372521, -0.5040258 ,  1.6261855 , -0.68193098,\n",
       "         1.90169109, -0.80230348, -1.53204031],\n",
       "       [ 0.28760411,  0.56211148,  0.5483614 , -1.4159562 ,  1.05107543,\n",
       "        -0.57304093,  1.09826432, -0.43399797],\n",
       "       [-0.30693884, -0.51539053, -0.59969736,  0.86565008,  0.01127159,\n",
       "        -0.20641396, -0.80230348,  1.50869232],\n",
       "       [ 1.47668999,  1.46002983,  0.5483614 , -0.65542077,  1.39767671,\n",
       "        -0.48138419,  1.82925194,  0.0727908 ]])"
      ]
     },
     "execution_count": 125,
     "metadata": {},
     "output_type": "execute_result"
    }
   ],
   "source": [
    "# Standarization\n",
    "from sklearn.preprocessing import StandardScaler\n",
    "sc = StandardScaler()\n",
    "\n",
    "\n",
    "sc.fit(X_train)\n",
    "X_train = sc.transform(X_train)\n",
    "X_test = sc.transform(X_test)\n",
    "X_train"
   ]
  },
  {
   "cell_type": "code",
   "execution_count": 126,
   "id": "1f0e3000-6877-4793-b7ac-293644e0be75",
   "metadata": {},
   "outputs": [
    {
     "name": "stdout",
     "output_type": "stream",
     "text": [
      "KNN Accuracy is:  93.54838709677419\n",
      "              precision    recall  f1-score   support\n",
      "\n",
      "           0       1.00      1.00      1.00         4\n",
      "           1       0.80      1.00      0.89         4\n",
      "           2       1.00      1.00      1.00         5\n",
      "           3       1.00      0.80      0.89         5\n",
      "           4       0.86      1.00      0.92         6\n",
      "           5       1.00      0.80      0.89         5\n",
      "           6       1.00      1.00      1.00         2\n",
      "\n",
      "    accuracy                           0.94        31\n",
      "   macro avg       0.95      0.94      0.94        31\n",
      "weighted avg       0.95      0.94      0.93        31\n",
      "\n"
     ]
    }
   ],
   "source": [
    "#K-NEAREST NEIGHBORS (KNN)\n",
    "from sklearn.neighbors import KNeighborsClassifier\n",
    "KNN = KNeighborsClassifier()\n",
    "KNN.fit(X_train,y_train)\n",
    "predicted = KNN.predict(X_test)\n",
    "x = metrics.accuracy_score(y_test, predicted)\n",
    "acc.append(x)\n",
    "model.append('K Nearest Neighbours')\n",
    "print(\"KNN Accuracy is: \", x * 100)\n",
    "print(classification_report(y_test,predicted))"
   ]
  },
  {
   "cell_type": "code",
   "execution_count": 127,
   "id": "d8a7e5d1-a40b-4563-9dde-79f623fea7af",
   "metadata": {},
   "outputs": [
    {
     "name": "stdout",
     "output_type": "stream",
     "text": [
      "SVC Accuracy is:  100.0\n",
      "              precision    recall  f1-score   support\n",
      "\n",
      "           0       1.00      1.00      1.00         4\n",
      "           1       1.00      1.00      1.00         4\n",
      "           2       1.00      1.00      1.00         5\n",
      "           3       1.00      1.00      1.00         5\n",
      "           4       1.00      1.00      1.00         6\n",
      "           5       1.00      1.00      1.00         5\n",
      "           6       1.00      1.00      1.00         2\n",
      "\n",
      "    accuracy                           1.00        31\n",
      "   macro avg       1.00      1.00      1.00        31\n",
      "weighted avg       1.00      1.00      1.00        31\n",
      "\n"
     ]
    }
   ],
   "source": [
    "#SUPPORT VECTOR MACHINE (SVM)\n",
    "from sklearn.svm import SVC\n",
    "SVC = SVC(probability=True)\n",
    "SVC.fit(X_train,y_train)\n",
    "predicted = SVC.predict(X_test)\n",
    "x = metrics.accuracy_score(y_test, predicted)\n",
    "acc.append(x)\n",
    "model.append('SVC')\n",
    "print(\"SVC Accuracy is: \", x * 100)\n",
    "print(classification_report(y_test,predicted))"
   ]
  },
  {
   "cell_type": "code",
   "execution_count": 128,
   "id": "23e85d54-fa82-4920-9577-c1c29cfd8718",
   "metadata": {},
   "outputs": [
    {
     "name": "stdout",
     "output_type": "stream",
     "text": [
      "Random Forest Accuracy is  100.0\n",
      "              precision    recall  f1-score   support\n",
      "\n",
      "           0       1.00      1.00      1.00         4\n",
      "           1       1.00      1.00      1.00         4\n",
      "           2       1.00      1.00      1.00         5\n",
      "           3       1.00      1.00      1.00         5\n",
      "           4       1.00      1.00      1.00         6\n",
      "           5       1.00      1.00      1.00         5\n",
      "           6       1.00      1.00      1.00         2\n",
      "\n",
      "    accuracy                           1.00        31\n",
      "   macro avg       1.00      1.00      1.00        31\n",
      "weighted avg       1.00      1.00      1.00        31\n",
      "\n"
     ]
    }
   ],
   "source": [
    "#RANDOM FOREST CLASSIFIER\n",
    "from sklearn.ensemble import RandomForestClassifier\n",
    "from sklearn.metrics import accuracy_score\n",
    "rfc = RandomForestClassifier()\n",
    "rfc.fit(X_train,y_train)\n",
    "predicted = rfc.predict(X_test)\n",
    "x = metrics.accuracy_score(y_test,predicted)\n",
    "acc.append(x)\n",
    "model.append('Random Forest')\n",
    "print(\"Random Forest Accuracy is \",x * 100)\n",
    "print(classification_report(y_test,predicted))"
   ]
  },
  {
   "cell_type": "code",
   "execution_count": 129,
   "id": "f8e87fad-65db-4853-9fa3-b82d985dd132",
   "metadata": {},
   "outputs": [
    {
     "data": {
      "text/plain": [
       "<Axes: title={'center': 'Accuracy Comparision'}, xlabel='Accuracy', ylabel='Algorithms'>"
      ]
     },
     "execution_count": 129,
     "metadata": {},
     "output_type": "execute_result"
    },
    {
     "data": {
      "image/png": "[encoded data removed]",
      "text/plain": [
       "<Figure size 1200x800 with 1 Axes>"
      ]
     },
     "metadata": {},
     "output_type": "display_data"
    }
   ],
   "source": [
    "#ACCURACY COMPARISION\n",
    "\n",
    "plt.figure(figsize = [12,8],dpi = 100)\n",
    "plt.title('Accuracy Comparision')\n",
    "plt.xlabel('Accuracy')\n",
    "plt.ylabel('Algorithms')\n",
    "sns.barplot(x = acc,y = model,palette = 'dark')"
   ]
  },
  {
   "cell_type": "code",
   "execution_count": 130,
   "id": "93d48de6-06c1-4ec8-b3ba-3d33ece19fc0",
   "metadata": {},
   "outputs": [
    {
     "name": "stdout",
     "output_type": "stream",
     "text": [
      "K Nearest Neighbours --> 93.54838709677419 %\n",
      "SVC --> 100.0 %\n",
      "Random Forest --> 100.0 %\n"
     ]
    }
   ],
   "source": [
    "accuracy_models = dict(zip(model,acc))\n",
    "for k,v in accuracy_models.items():\n",
    "  print(k,'-->',v* 100,'%')"
   ]
  },
  {
   "cell_type": "code",
   "execution_count": 131,
   "id": "7f030594-6457-4bbe-b3dc-a04933513e82",
   "metadata": {},
   "outputs": [
    {
     "data": {
      "text/plain": [
       "1.0"
      ]
     },
     "execution_count": 131,
     "metadata": {},
     "output_type": "execute_result"
    }
   ],
   "source": [
    "accuracy_score(y_test,predicted)"
   ]
  },
  {
   "cell_type": "code",
   "execution_count": 132,
   "id": "bf56d853-f71b-46c3-8f79-eae15b6ee3ec",
   "metadata": {},
   "outputs": [],
   "source": [
    "def recommendation(temparature,\thumidity,\tmoisture,\tsoil,\tcrop,\tN,\tK,\tP):\n",
    "    features = np.array([[temparature,\thumidity,\tmoisture,\tsoil,\tcrop,\tN,\tK,\tP]])\n",
    "    prediction = rfc.predict(features).reshape(1,-1)\n",
    "    \n",
    "    return prediction[0]"
   ]
  },
  {
   "cell_type": "code",
   "execution_count": 133,
   "id": "32058b6a-9c40-42fa-9429-ed38d059dfb4",
   "metadata": {},
   "outputs": [
    {
     "name": "stdout",
     "output_type": "stream",
     "text": [
      "Urea is a best fertilizer for cultivation of Maize \n"
     ]
    }
   ],
   "source": [
    "N = 37\n",
    "K = 0\n",
    "P = 0\n",
    "\n",
    "temparature = 26\n",
    "humidity = 52\n",
    "moisture = 38\n",
    "soil = 4\n",
    "crop = 3\n",
    "\n",
    "predict = recommendation(temparature,\thumidity,\tmoisture,\tsoil,\tcrop,\tN,\tK,\tP)\n",
    "fertilizer_dict = {0: '10-26-26', 1: '14-35-14', 2: '17-17-17', 3: '20-20', 4: '28-28', 5: 'DAP', 6: 'Urea'}\n",
    "\n",
    "if predict[0] in fertilizer_dict:\n",
    "    fertilizer = fertilizer_dict[predict[0]]\n",
    "    print(\"{} is a best fertilizer for cultivation of {} \".format(fertilizer,croptype_dict[crop]))\n",
    "else:\n",
    "    print(\"Sorry are not able to recommend a proper crop for this environment\")"
   ]
  },
  {
   "cell_type": "code",
   "execution_count": 134,
   "id": "92f7d4b9-3984-416a-af55-a2a32a5f668c",
   "metadata": {},
   "outputs": [],
   "source": [
    "import pickle\n",
    "pickle.dump(rfc,open('models/fertilizer.pkl','wb'))"
   ]
  },
  {
   "cell_type": "code",
   "execution_count": null,
   "id": "549b16bd-253d-4a89-b63d-dc2e1c51e42a",
   "metadata": {},
   "outputs": [],
   "source": []
  }
 ],
 "metadata": {
  "kernelspec": {
   "display_name": "venv",
   "language": "python",
   "name": "venv"
  },
  "language_info": {
   "codemirror_mode": {
    "name": "ipython",
    "version": 3
   },
   "file_extension": ".py",
   "mimetype": "text/x-python",
   "name": "python",
   "nbconvert_exporter": "python",
   "pygments_lexer": "ipython3",
   "version": "3.11.1"
  }
 },
 "nbformat": 4,
 "nbformat_minor": 5
}
